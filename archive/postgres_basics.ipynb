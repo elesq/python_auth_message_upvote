{
 "cells": [
  {
   "cell_type": "markdown",
   "metadata": {},
   "source": [
    "# Connecting to postgres"
   ]
  },
  {
   "cell_type": "code",
   "execution_count": 3,
   "metadata": {},
   "outputs": [],
   "source": [
    "# we use the psycopg2 library as the standard connector lib.\n",
    "from psycopg2 import connect"
   ]
  },
  {
   "cell_type": "code",
   "execution_count": 4,
   "metadata": {},
   "outputs": [],
   "source": [
    "# setting the url of the database allows us to easily\n",
    "# switch to other database configuraitons and locations\n",
    "# we use the urllib parser to deconstruct the url. \n",
    "postgres_url = \"postgres://127.0.0.1:5432/postgres\"\n",
    "from urllib.parse import urlparse\n",
    "url = urlparse(postgres_url)"
   ]
  },
  {
   "cell_type": "code",
   "execution_count": 5,
   "metadata": {},
   "outputs": [],
   "source": [
    "# return a connection we can use\n",
    "def get_db_connection():\n",
    "    return connect(\n",
    "        host=url.hostname,\n",
    "        port=url.port,\n",
    "        user=url.username,\n",
    "        password=url.password,\n",
    "        database=url.path[1:]\n",
    "    )"
   ]
  },
  {
   "cell_type": "code",
   "execution_count": 6,
   "metadata": {},
   "outputs": [],
   "source": [
    "# create the connection and cursor\n",
    "conn = get_db_connection()\n",
    "cur = conn.cursor()"
   ]
  },
  {
   "cell_type": "code",
   "execution_count": 7,
   "metadata": {},
   "outputs": [],
   "source": [
    "with get_db_connection() as conn:\n",
    "    with conn.cursor() as cur:\n",
    "        cur.execute(\"\"\"\n",
    "            create table cpus (\n",
    "                id serial primary key,\n",
    "                name varchar(255),\n",
    "                cores int,\n",
    "                threads int,\n",
    "                price decimal                    \n",
    "            );\n",
    "        \"\"\")"
   ]
  },
  {
   "cell_type": "code",
   "execution_count": 8,
   "metadata": {},
   "outputs": [],
   "source": [
    "with get_db_connection() as conn:\n",
    "    with conn.cursor() as cur:\n",
    "        cur.execute(\"\"\"\n",
    "            create table motherboards (\n",
    "                    id serial primary key,\n",
    "                    name varchar(255),\n",
    "                    form_factor varchar(255),\n",
    "                    price decimal\n",
    "            );\n",
    "        \"\"\")"
   ]
  },
  {
   "cell_type": "markdown",
   "metadata": {},
   "source": [
    "# Parameterization"
   ]
  },
  {
   "cell_type": "code",
   "execution_count": 9,
   "metadata": {},
   "outputs": [],
   "source": [
    "some_cpus = [\n",
    "    (\"bigballs\", 12, 24, 3299.00),\n",
    "    (\"whiffmaerse\", 10, 16, 2379.00),\n",
    "    (\"deeznuts\", 18, 48, 7499.00),\n",
    "    (\"cheenies\", 8, 12, 999.00),\n",
    "]\n",
    "\n",
    "some_motherboards = [\n",
    "    {\n",
    "        \"name\": \"asus rog\",\n",
    "        \"form_factor\": \"ATX\",\n",
    "        \"price\": 499.99\n",
    "    },\n",
    "    {\n",
    "        \"name\": \"gigabyte gigabollox\",\n",
    "        \"form_factor\": \"EATX\",\n",
    "        \"price\": 379.99\n",
    "    },\n",
    "    {\n",
    "        \"name\": \"MSI edge ya bass\",\n",
    "        \"form_factor\": \"ATX\",\n",
    "        \"price\": 849.99\n",
    "    },\n",
    "]"
   ]
  },
  {
   "cell_type": "code",
   "execution_count": 11,
   "metadata": {},
   "outputs": [],
   "source": [
    "with get_db_connection() as conn:\n",
    "    with conn.cursor() as cur:\n",
    "        cur.executemany(\"\"\" \n",
    "            insert into cpus (name, cores, threads, price)\n",
    "            values (%s, %s, %s, %s)\n",
    "        \"\"\", some_cpus)"
   ]
  },
  {
   "cell_type": "code",
   "execution_count": 12,
   "metadata": {},
   "outputs": [],
   "source": [
    "with get_db_connection() as conn:\n",
    "    with conn.cursor() as cur:\n",
    "        cur.executemany(\"\"\" \n",
    "            insert into motherboards (name, form_factor, price)\n",
    "            values (%(name)s, %(form_factor)s, %(price)s);\n",
    "        \"\"\", some_motherboards)"
   ]
  },
  {
   "cell_type": "markdown",
   "metadata": {},
   "source": [
    "# Dynamic Queries"
   ]
  },
  {
   "cell_type": "code",
   "execution_count": 13,
   "metadata": {},
   "outputs": [],
   "source": [
    "from psycopg2 import sql"
   ]
  },
  {
   "cell_type": "code",
   "execution_count": 14,
   "metadata": {},
   "outputs": [],
   "source": [
    "table = \"motherboards\"\n",
    "price = 2599.99\n",
    "max_results = 3"
   ]
  },
  {
   "cell_type": "code",
   "execution_count": 15,
   "metadata": {},
   "outputs": [
    {
     "name": "stdout",
     "output_type": "stream",
     "text": [
      "[(1, 'asus rog', 'ATX', Decimal('499.99')), (2, 'gigabyte gigabollox', 'EATX', Decimal('379.99')), (3, 'MSI edge ya bass', 'ATX', Decimal('849.99'))]\n"
     ]
    }
   ],
   "source": [
    "with get_db_connection() as conn:\n",
    "    with conn.cursor() as cur:\n",
    "        cur.execute(sql.SQL(\"\"\"\n",
    "            select * \n",
    "            from {}\n",
    "            where price <= {}\n",
    "            limit {}                 \n",
    "        \"\"\").format(sql.Identifier(table),\n",
    "                    sql.Literal(price),\n",
    "                    sql.Literal(max_results)\n",
    "        ))\n",
    "        print(cur.fetchall())"
   ]
  },
  {
   "cell_type": "code",
   "execution_count": 16,
   "metadata": {},
   "outputs": [],
   "source": [
    "def get_items_by_price_threshold(item_type, price_threshold, max_results):\n",
    "    exec_sql = sql.SQL(\"\"\" \n",
    "        select *\n",
    "        from {}\n",
    "        where price <= {}\n",
    "        order by price desc\n",
    "        limit {};                \n",
    "    \"\"\").format(\n",
    "        sql.Identifier(item_type),\n",
    "        sql.Literal(price_threshold),\n",
    "        sql.Literal(max_results)\n",
    "    )\n",
    "\n",
    "    with get_db_connection() as conn:\n",
    "        with conn.cursor() as cur:\n",
    "            cur.execute(exec_sql)\n",
    "            return cur.fetchall()"
   ]
  },
  {
   "cell_type": "code",
   "execution_count": 17,
   "metadata": {},
   "outputs": [
    {
     "data": {
      "text/plain": [
       "[(2, 'whiffmaerse', 10, 16, Decimal('2379.0')),\n",
       " (4, 'cheenies', 8, 12, Decimal('999.0'))]"
      ]
     },
     "execution_count": 17,
     "metadata": {},
     "output_type": "execute_result"
    }
   ],
   "source": [
    "get_items_by_price_threshold(\"cpus\", 2500, 3)"
   ]
  },
  {
   "cell_type": "code",
   "execution_count": 18,
   "metadata": {},
   "outputs": [
    {
     "data": {
      "text/plain": [
       "[(3, 'MSI edge ya bass', 'ATX', Decimal('849.99')),\n",
       " (6, 'MSI edge ya bass', 'ATX', Decimal('849.99')),\n",
       " (1, 'asus rog', 'ATX', Decimal('499.99'))]"
      ]
     },
     "execution_count": 18,
     "metadata": {},
     "output_type": "execute_result"
    }
   ],
   "source": [
    "get_items_by_price_threshold(\"motherboards\", 999, 3)"
   ]
  },
  {
   "cell_type": "code",
   "execution_count": 19,
   "metadata": {},
   "outputs": [],
   "source": [
    "# look at further reusability we want to have an extension to \n",
    "# the query function that facilitates the following:\n",
    "# get_items(\"tablname\", where={\"field\": value, \"field\": value})\n",
    "# get_items(\"tablname\", where={\"field\": value})\n",
    "# get_items(\"tablname\")"
   ]
  },
  {
   "cell_type": "code",
   "execution_count": 20,
   "metadata": {},
   "outputs": [],
   "source": [
    "def get_items(item_type, where: dict = None, max_results: int = 3):\n",
    "    where_caluse = sql.SQL(\"\")\n",
    "\n",
    "    if where:\n",
    "        where_caluse = sql.SQL(\"where {}\").format(\n",
    "            sql.SQL(\" and \").join([\n",
    "                sql.SQL(\"{} = {}\").format(\n",
    "                    sql.Identifier(key), \n",
    "                    sql.Placeholder()\n",
    "                ) for key in where.keys()\n",
    "            ])\n",
    "        )\n",
    "\n",
    "    exec_sql = sql.SQL(\"\"\" \n",
    "        select *\n",
    "        from {}\n",
    "        {}\n",
    "        order by price desc\n",
    "        limit {};                \n",
    "    \"\"\").format(\n",
    "        sql.Identifier(item_type),\n",
    "        where_caluse,\n",
    "        sql.Literal(max_results)\n",
    "    )\n",
    "\n",
    "    with get_db_connection() as conn:\n",
    "        with conn.cursor() as cur:\n",
    "            cur.execute(exec_sql, list(where.values()))\n",
    "            return cur.fetchall()"
   ]
  },
  {
   "cell_type": "code",
   "execution_count": 21,
   "metadata": {},
   "outputs": [
    {
     "data": {
      "text/plain": [
       "[(2, 'whiffmaerse', 10, 16, Decimal('2379.0'))]"
      ]
     },
     "execution_count": 21,
     "metadata": {},
     "output_type": "execute_result"
    }
   ],
   "source": [
    "get_items(\"cpus\", where={\"cores\": 10, \"threads\": 16})"
   ]
  },
  {
   "cell_type": "code",
   "execution_count": 22,
   "metadata": {},
   "outputs": [
    {
     "data": {
      "text/plain": [
       "[(3, 'deeznuts', 18, 48, Decimal('7499.0'))]"
      ]
     },
     "execution_count": 22,
     "metadata": {},
     "output_type": "execute_result"
    }
   ],
   "source": [
    "get_items(\"cpus\", where={\"cores\": 18})"
   ]
  },
  {
   "cell_type": "markdown",
   "metadata": {},
   "source": [
    "# Dynamic Query refactor"
   ]
  },
  {
   "cell_type": "code",
   "execution_count": 23,
   "metadata": {},
   "outputs": [],
   "source": [
    "def get_items(item_type, where: dict = None, max_results: int = 3):\n",
    "    where_caluse = sql.SQL(\"\")\n",
    "\n",
    "    if where:\n",
    "        # where_caluse = sql.SQL(\"where {}\").format(\n",
    "        #     sql.SQL(\" and \").join([\n",
    "        #         sql.SQL(\"{} = {}\").format(\n",
    "        #             sql.Identifier(key), \n",
    "        #             sql.Placeholder()\n",
    "        #         ) for key in where.keys()\n",
    "        #     ])\n",
    "        # )\n",
    "\n",
    "        conditions = [sql.SQL(\"{} = {}\").format(\n",
    "            sql.Identifier(key), \n",
    "            sql.Placeholder()\n",
    "        ) for key in where.keys()]\n",
    "\n",
    "        joined = sql.SQL(\" and \").join(conditions)\n",
    "        where_caluse = sql.SQL(\"where {}\").format(joined)\n",
    "\n",
    "    else: \n",
    "        where = {}\n",
    "        where_caluse = sql.SQL(\"\")\n",
    "\n",
    "    exec_sql = sql.SQL(\"\"\" \n",
    "        select *\n",
    "        from {}\n",
    "        {}\n",
    "        order by price desc\n",
    "        limit {};                \n",
    "    \"\"\").format(\n",
    "        sql.Identifier(item_type),\n",
    "        where_caluse,\n",
    "        sql.Literal(max_results)\n",
    "    )\n",
    "\n",
    "    with get_db_connection() as conn:\n",
    "        with conn.cursor() as cur:\n",
    "            cur.execute(exec_sql, list(where.values()))\n",
    "            return cur.fetchall()"
   ]
  },
  {
   "cell_type": "code",
   "execution_count": 24,
   "metadata": {},
   "outputs": [
    {
     "data": {
      "text/plain": [
       "[(3, 'deeznuts', 18, 48, Decimal('7499.0'))]"
      ]
     },
     "execution_count": 24,
     "metadata": {},
     "output_type": "execute_result"
    }
   ],
   "source": [
    "get_items(\"cpus\", where={\"cores\": 18})"
   ]
  },
  {
   "cell_type": "code",
   "execution_count": 25,
   "metadata": {},
   "outputs": [
    {
     "data": {
      "text/plain": [
       "[(1, 'bigballs', 12, 24, Decimal('3299.0'))]"
      ]
     },
     "execution_count": 25,
     "metadata": {},
     "output_type": "execute_result"
    }
   ],
   "source": [
    "get_items(\"cpus\", where={\"threads\": 24})"
   ]
  },
  {
   "cell_type": "code",
   "execution_count": null,
   "metadata": {},
   "outputs": [],
   "source": []
  },
  {
   "cell_type": "code",
   "execution_count": null,
   "metadata": {},
   "outputs": [],
   "source": []
  }
 ],
 "metadata": {
  "kernelspec": {
   "display_name": "venv",
   "language": "python",
   "name": "python3"
  },
  "language_info": {
   "codemirror_mode": {
    "name": "ipython",
    "version": 3
   },
   "file_extension": ".py",
   "mimetype": "text/x-python",
   "name": "python",
   "nbconvert_exporter": "python",
   "pygments_lexer": "ipython3",
   "version": "3.10.8"
  },
  "orig_nbformat": 4
 },
 "nbformat": 4,
 "nbformat_minor": 2
}
